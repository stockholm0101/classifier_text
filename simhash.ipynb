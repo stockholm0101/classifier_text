{
 "cells": [
  {
   "cell_type": "code",
   "execution_count": null,
   "metadata": {},
   "outputs": [],
   "source": [
    "import jieba\n",
    "import jieba.analyse\n",
    "import numpy as np\n",
    "import json\n",
    " \n",
    "class simhash:\n",
    "    def __init__(self,content):\n",
    "        self.simhash=self.simhash(content)\n",
    " \n",
    "    def __str__(self):\n",
    "        return str(self.simhash)\n",
    " \n",
    "    def simhash(self,content):\n",
    "        seg = jieba.cut(content)\n",
    "        jieba.analyse.set_stop_words('data/stop_words.txt_utf8')\n",
    "        keyWord = jieba.analyse.extract_tags(\n",
    "            '|'.join(seg), topK=20, withWeight=True, allowPOS=())#在这里对jieba的tfidf.py进行了修改\n",
    "        #将tags = sorted(freq.items(), key=itemgetter(1), reverse=True)修改成tags = sorted(freq.items(), key=itemgetter(1,0), reverse=True)\n",
    "        #即先按照权重排序，再按照词排序\n",
    "        keyList = []\n",
    "        # print(keyWord)\n",
    "        for feature, weight in keyWord:\n",
    "            print(feature + str(weight))\n",
    "            weight = int(weight * 20)\n",
    "            feature = self.string_hash(feature)\n",
    "            temp = []\n",
    "            for i in feature:\n",
    "                if(i == '1'):\n",
    "                    temp.append(weight)\n",
    "                else:\n",
    "                    temp.append(-weight)\n",
    "            # print(temp)\n",
    "            keyList.append(temp)\n",
    "        list1 = np.sum(np.array(keyList), axis=0)\n",
    "        print(list1)\n",
    "        if(keyList==[]): #编码读不出来\n",
    "            return '00'   \n",
    "        simhash = ''\n",
    "        for i in list1:\n",
    "            if(i > 0):\n",
    "                simhash = simhash + '1'\n",
    "            else:\n",
    "                simhash = simhash + '0'\n",
    "        return simhash\n",
    " \n",
    " \n",
    "    def string_hash(self,source):\n",
    "        if source == \"\":\n",
    "            return 0\n",
    "        else:\n",
    "            x = ord(source[0]) << 7\n",
    "            m = 1000003\n",
    "            mask = 2 ** 128 - 1\n",
    "            for c in source:\n",
    "                x = ((x * m) ^ ord(c)) & mask\n",
    "            x ^= len(source)\n",
    "            if x == -1:\n",
    "                x = -2\n",
    "            x = bin(x).replace('0b', '').zfill(64)[-64:]\n",
    "            print(source,x)\n",
    " \n",
    "            return str(x)\n",
    " \n",
    "        '''\n",
    "        以下是使用系统自带hash生成，虽然每次相同的会生成的一样，\n",
    "        不过，对于不同的汉子产生的二进制，在计算海明码的距离会不一样，\n",
    "        即每次产生的海明距离不一致\n",
    "        所以不建议使用。\n",
    "        '''\n",
    "        # x=str(bin(hash(source)).replace('0b','').replace('-','').zfill(64)[-64:])\n",
    "        # print(source,x,len(x))\n",
    "        # return x\n",
    " \n",
    " \n",
    "    def hammingDis(self,com):\n",
    "        t1 = '0b' + self.simhash\n",
    "        t2 = '0b' + com.simhash\n",
    "        n=int(t1, 2) ^ int(t2, 2)\n",
    "        i=0\n",
    "        while n:\n",
    "            n &= (n-1)\n",
    "            i+=1\n",
    "        return i\n",
    " \n"
   ]
  },
  {
   "cell_type": "code",
   "execution_count": null,
   "metadata": {},
   "outputs": [],
   "source": [
    "test_hash = simhash(\"抽脂隆胸多少钱啊 抽脂隆胸大概需要多少钱\")"
   ]
  },
  {
   "cell_type": "code",
   "execution_count": null,
   "metadata": {},
   "outputs": [],
   "source": [
    "test_hash.simhash"
   ]
  },
  {
   "cell_type": "code",
   "execution_count": null,
   "metadata": {},
   "outputs": [],
   "source": [
    "com = simhash(\"抽脂隆胸多少钱啊 抽脂隆胸大概需要多少钱怎么去故宫\")"
   ]
  },
  {
   "cell_type": "code",
   "execution_count": null,
   "metadata": {},
   "outputs": [],
   "source": [
    "test_hash.hammingDis(com)"
   ]
  },
  {
   "cell_type": "code",
   "execution_count": null,
   "metadata": {},
   "outputs": [],
   "source": []
  }
 ],
 "metadata": {
  "kernelspec": {
   "display_name": "Python [conda env:py35]",
   "language": "python",
   "name": "conda-env-py35-py"
  },
  "language_info": {
   "codemirror_mode": {
    "name": "ipython",
    "version": 3
   },
   "file_extension": ".py",
   "mimetype": "text/x-python",
   "name": "python",
   "nbconvert_exporter": "python",
   "pygments_lexer": "ipython3",
   "version": "3.5.6"
  }
 },
 "nbformat": 4,
 "nbformat_minor": 2
}
